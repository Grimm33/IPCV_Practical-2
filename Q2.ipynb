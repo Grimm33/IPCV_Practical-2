{
 "cells": [
  {
   "cell_type": "markdown",
   "metadata": {
    "collapsed": true,
    "pycharm": {
     "name": "#%% md\n"
    }
   },
   "source": [
    "Create an algorithm to do the following:\n",
    "\n",
    "You will be provided with an RGB image of the figure (shown here ->),\n",
    "\n",
    "called japanese-cherry.png\n",
    "\n",
    "\n",
    "(Do not forget to load any required packages)\n",
    "\n",
    "Inside the script:\n",
    "\n",
    "(b)      Apply random noise to the image on all channels (RGB) with a mean = 10 and a sigma = 30\n",
    "\n",
    "\n",
    "(c)       Implement 2 different methods  of noise removal (Gaussian blur and Bilateral filter) and display the results in two separate output windows as follows:\n",
    "\n",
    "\n",
    "         (i)  Create a trackbar to change in realtime the kernel size of the Gaussian blur. Remember to consider only ODD numbered kernels (e.g. 3, 5, 7, 9).                 Set sigma to a constant of 0.\n",
    "\n",
    "\n",
    "         (ii)     Create a trackbar to change in realtime the diameter (d) parameter of the Bilateral filter.  Set sigmacolor and sigmaspace to 100.\n",
    "\n",
    "(d)     Which filtering method worked best to remove noise while preserving the red tree and why?"
   ]
  },
  {
   "cell_type": "code",
   "execution_count": 1,
   "outputs": [],
   "source": [
    "import cv2\n",
    "import numpy as np"
   ],
   "metadata": {
    "collapsed": false,
    "pycharm": {
     "name": "#%%\n"
    }
   }
  },
  {
   "cell_type": "markdown",
   "source": [
    "(a)      Read and display the image in a named window called “Output”"
   ],
   "metadata": {
    "collapsed": false
   }
  },
  {
   "cell_type": "code",
   "execution_count": 2,
   "outputs": [],
   "source": [
    "img = cv2.imread('japanese-cherry.jpg')\n",
    "while 1:\n",
    "    cv2.imshow('output',img)\n",
    "    k = cv2.waitKey(1) & 0xFF\n",
    "    if k == 27:\n",
    "        break\n",
    "\n",
    "cv2.destroyAllWindows()"
   ],
   "metadata": {
    "collapsed": false,
    "pycharm": {
     "name": "#%%\n"
    }
   }
  }
 ],
 "metadata": {
  "kernelspec": {
   "display_name": "Python 3",
   "language": "python",
   "name": "python3"
  },
  "language_info": {
   "codemirror_mode": {
    "name": "ipython",
    "version": 2
   },
   "file_extension": ".py",
   "mimetype": "text/x-python",
   "name": "python",
   "nbconvert_exporter": "python",
   "pygments_lexer": "ipython2",
   "version": "2.7.6"
  }
 },
 "nbformat": 4,
 "nbformat_minor": 0
}